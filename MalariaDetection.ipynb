{
  "nbformat": 4,
  "nbformat_minor": 0,
  "metadata": {
    "colab": {
      "provenance": [],
      "gpuType": "T4",
      "authorship_tag": "ABX9TyPPJyhDmZn4Q6LUor5+Xrnn",
      "include_colab_link": true
    },
    "kernelspec": {
      "name": "python3",
      "display_name": "Python 3"
    },
    "language_info": {
      "name": "python"
    },
    "accelerator": "GPU"
  },
  "cells": [
    {
      "cell_type": "markdown",
      "metadata": {
        "id": "view-in-github",
        "colab_type": "text"
      },
      "source": [
        "<a href=\"https://colab.research.google.com/github/Berke-Yay/Machine-Learning-Models/blob/main/MalariaDetection.ipynb\" target=\"_parent\"><img src=\"https://colab.research.google.com/assets/colab-badge.svg\" alt=\"Open In Colab\"/></a>"
      ]
    },
    {
      "cell_type": "code",
      "source": [
        "import tensorflow as tf\n",
        "import tensorflow_datasets as tfds\n",
        "\n",
        "dataset, info = tfds.load(\n",
        "    name='malaria',\n",
        "    split='train',\n",
        "    as_supervised=True,\n",
        "    with_info=True,\n",
        ")\n",
        "\n",
        "def preprocess(image, label):\n",
        "    image = tf.image.resize(image, (128, 128))\n",
        "    image = tf.cast(image, tf.float32) / 255.0\n",
        "    label = tf.one_hot(label, depth=2)\n",
        "    return image, label\n",
        "\n",
        "#Ram'i tek seferde kullanmamak için batch'lere ayırdım\n",
        "batch_size = 32\n",
        "preprocessed_dataset = dataset.map(preprocess).batch(batch_size)\n",
        "\n",
        "\n",
        "#sklearn fonksiyonu yerine biraz daha ilkel bir yaklaşım çalışıyor\n",
        "split_percentage = 0.8\n",
        "num_batches = 862\n",
        "num_train_samples = int(split_percentage * num_batches)\n",
        "train_data = preprocessed_dataset.take(num_train_samples)\n",
        "test_data = preprocessed_dataset.skip(num_train_samples)"
      ],
      "metadata": {
        "id": "2CfeEpDe3NmA"
      },
      "execution_count": null,
      "outputs": []
    },
    {
      "cell_type": "code",
      "source": [
        "class SitmaRecognition(tf.keras.Model):\n",
        "    def __init__(self):\n",
        "        super(SitmaRecognition, self).__init__()\n",
        "        self.conv1 = tf.keras.layers.Conv2D(32, (3, 3), activation='relu', input_shape=(128, 128, 3))\n",
        "        self.flatten = tf.keras.layers.Flatten()\n",
        "        self.dense1 = tf.keras.layers.Dense(128, activation='relu')\n",
        "        self.dropout = tf.keras.layers.Dropout(0.5)\n",
        "        self.dense2 = tf.keras.layers.Dense(2, activation='softmax')\n",
        "\n",
        "    def call(self, inputs):\n",
        "        x = self.conv1(inputs)\n",
        "        x = self.flatten(x)\n",
        "        x = self.dense1(x)\n",
        "        x = self.dropout(x)\n",
        "        return self.dense2(x)\n",
        "\n",
        "model = SitmaRecognition()\n",
        "\n",
        "model.compile(optimizer='adam',\n",
        "              loss='categorical_crossentropy',\n",
        "              metrics=['accuracy'])\n",
        "\n",
        "\n",
        "epochs = 1\n",
        "model.fit(train_data, epochs=epochs)"
      ],
      "metadata": {
        "colab": {
          "base_uri": "https://localhost:8080/"
        },
        "id": "rPNzFjNVDGsV",
        "outputId": "ccc36b78-9e2e-423b-b643-9ab5fe1f2cf7"
      },
      "execution_count": null,
      "outputs": [
        {
          "output_type": "stream",
          "name": "stdout",
          "text": [
            "862/862 [==============================] - 33s 36ms/step - loss: 0.7035 - accuracy: 0.7538\n"
          ]
        },
        {
          "output_type": "execute_result",
          "data": {
            "text/plain": [
              "<keras.callbacks.History at 0x7ae2500e61d0>"
            ]
          },
          "metadata": {},
          "execution_count": 24
        }
      ]
    },
    {
      "cell_type": "code",
      "source": [
        "test_loss, test_accuracy = model.evaluate(test_data)\n",
        "print(\"Test Accuracy:\", test_accuracy)"
      ],
      "metadata": {
        "colab": {
          "base_uri": "https://localhost:8080/"
        },
        "id": "MVsPobzrKMvx",
        "outputId": "ee99087a-5832-47c1-d60c-11d13675822a"
      },
      "execution_count": null,
      "outputs": [
        {
          "output_type": "stream",
          "name": "stdout",
          "text": [
            "173/173 [==============================] - 18s 21ms/step - loss: 0.2440 - accuracy: 0.9172\n",
            "Test Accuracy: 0.9172413945198059\n"
          ]
        }
      ]
    }
  ]
}